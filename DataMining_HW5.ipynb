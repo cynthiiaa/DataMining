{
  "nbformat": 4,
  "nbformat_minor": 0,
  "metadata": {
    "colab": {
      "provenance": [],
      "collapsed_sections": [
        "fkwDMSs1bRtM",
        "RhN5APeld8I6"
      ],
      "authorship_tag": "ABX9TyM1g7kNOloRRe3lGpQBe0gK",
      "include_colab_link": true
    },
    "kernelspec": {
      "name": "python3",
      "display_name": "Python 3"
    },
    "language_info": {
      "name": "python"
    }
  },
  "cells": [
    {
      "cell_type": "markdown",
      "metadata": {
        "id": "view-in-github",
        "colab_type": "text"
      },
      "source": [
        "<a href=\"https://colab.research.google.com/github/cynthiiaa/DataMining/blob/main/DataMining_HW5.ipynb\" target=\"_parent\"><img src=\"https://colab.research.google.com/assets/colab-badge.svg\" alt=\"Open In Colab\"/></a>"
      ]
    },
    {
      "cell_type": "code",
      "execution_count": null,
      "metadata": {
        "id": "t3ZLylnmU0Rb"
      },
      "outputs": [],
      "source": [
        "import numpy as np\n",
        "import pandas as pd\n",
        "import matplotlib.pyplot as plt\n",
        "import seaborn as sns"
      ]
    },
    {
      "cell_type": "markdown",
      "source": [
        "# **ISL pg. 120 #12**"
      ],
      "metadata": {
        "id": "fkwDMSs1bRtM"
      }
    },
    {
      "cell_type": "markdown",
      "source": [
        "Given the coefficient estimate $$ \\hat{\\beta} $$ for the linear regression of Y onto X without an intercept:\n",
        "\n",
        "$$\n",
        "\\hat{\\beta} = \\frac{\\sum_{i=1}^{n} x_i y_i}{\\sum_{i'=1}^{n} x_{i'}^2}\n",
        "$$\n",
        "\n",
        "And for regressing X onto Y:\n",
        "\n",
        "$$\n",
        "\\hat{\\beta}' = \\frac{\\sum_{i=1}^{n} x_i y_i}{\\sum_{i'=1}^{n} y_{i'}^2}\n",
        "$$\n",
        "\n",
        "Under which circumstance $$ \\hat{\\beta} $$ and $$ \\hat{\\beta}' $$ are the same? They are the same when:\n",
        "\n",
        "$$\n",
        "\\frac{\\sum_{i=1}^{n} x_i y_i}{\\sum_{i'=1}^{n} x_{i'}^2} = \\frac{\\sum_{i=1}^{n} x_i y_i}{\\sum_{i'=1}^{n} y_{i'}^2}\n",
        "$$\n",
        "\n",
        "Essentially when:\n",
        "\n",
        "$$\n",
        "\\sum_{i'=1}^{n} x_{i'}^2 = \\sum_{i'=1}^{n} y_{i'}^2\n",
        "$$"
      ],
      "metadata": {
        "id": "-7483tr1cUlN"
      }
    },
    {
      "cell_type": "code",
      "source": [
        "np.random.seed(0)\n",
        "x = np.random.rand(100)\n",
        "y = 3 * x + np.random.randn(100)  # Y is generated as 3*X plus some random noise\n",
        "\n",
        "beta_yx = np.sum(x * y) / np.sum(x**2)\n",
        "print(f\"The coefficient estimate for the regression of Y onto X is: {beta_yx:.3f}\")\n",
        "\n",
        "beta_xy = np.sum(x * y) / np.sum(y**2)\n",
        "print(f\"The coefficient estimate for the regression of X onto Y is: {beta_xy:.3f}\")"
      ],
      "metadata": {
        "colab": {
          "base_uri": "https://localhost:8080/"
        },
        "id": "umPhvQVcU-Uv",
        "outputId": "9b671848-e258-4ccd-c4a8-744d5aa0d870"
      },
      "execution_count": null,
      "outputs": [
        {
          "output_type": "stream",
          "name": "stdout",
          "text": [
            "The coefficient estimate for the regression of Y onto X is: 3.279\n",
            "The coefficient estimate for the regression of X onto Y is: 0.234\n"
          ]
        }
      ]
    },
    {
      "cell_type": "code",
      "source": [
        "np.random.seed(0)\n",
        "x = np.random.rand(100)\n",
        "y = x  # making y equal to x\n",
        "\n",
        "beta_yx = np.sum(x * y) / np.sum(x**2)\n",
        "print(f\"The coefficient estimate for the regression of Y onto X is: {beta_yx:.3f}\")\n",
        "\n",
        "beta_xy = np.sum(x * y) / np.sum(y**2)\n",
        "print(f\"The coefficient estimate for the regression of X onto Y is: {beta_xy:.3f}\")"
      ],
      "metadata": {
        "colab": {
          "base_uri": "https://localhost:8080/"
        },
        "id": "mmuzTdygbr6J",
        "outputId": "036f895c-dcff-49ff-c8d8-5f65d26d32be"
      },
      "execution_count": null,
      "outputs": [
        {
          "output_type": "stream",
          "name": "stdout",
          "text": [
            "The coefficient estimate for the regression of Y onto X is: 1.000\n",
            "The coefficient estimate for the regression of X onto Y is: 1.000\n"
          ]
        }
      ]
    },
    {
      "cell_type": "markdown",
      "source": [
        "# **ISL pg. 120 #13**\n",
        "\n",
        "Ignore these cells, it's a repeat from the prior homework."
      ],
      "metadata": {
        "id": "RhN5APeld8I6"
      }
    },
    {
      "cell_type": "code",
      "source": [
        "# part a\n",
        "np.random.seed(1)\n",
        "X = np.random.normal(0, 1, 100)"
      ],
      "metadata": {
        "id": "HOWFlU-Hb9O6"
      },
      "execution_count": null,
      "outputs": []
    },
    {
      "cell_type": "code",
      "source": [
        "# part b\n",
        "variance = 0.25\n",
        "mean = 0\n",
        "std_dev = np.sqrt(variance)\n",
        "eps = np.random.normal(mean, std_dev, 100)"
      ],
      "metadata": {
        "id": "Pz_A4nAGebnV"
      },
      "execution_count": null,
      "outputs": []
    },
    {
      "cell_type": "code",
      "source": [
        "# part c\n",
        "y = -1 + 0.5 * x + eps # model given to us\n",
        "print(\"length of y is:\", len(y))\n",
        "print(\"β0 = -1\\nβ1 = 0.5\")"
      ],
      "metadata": {
        "colab": {
          "base_uri": "https://localhost:8080/"
        },
        "id": "Ef8RgW2oelEp",
        "outputId": "443d63b8-8749-4dbc-8592-8947507c4925"
      },
      "execution_count": null,
      "outputs": [
        {
          "output_type": "stream",
          "name": "stdout",
          "text": [
            "length of y is: 100\n",
            "β0 = -1\n",
            "β1 = 0.5\n"
          ]
        }
      ]
    },
    {
      "cell_type": "code",
      "source": [
        "# part d\n",
        "plt.scatter(x, y)\n",
        "plt.xlabel(\"X\")\n",
        "plt.ylabel(\"Y\")\n",
        "plt.title(\"Scatterplot of X vs Y\")\n",
        "plt.show()"
      ],
      "metadata": {
        "colab": {
          "base_uri": "https://localhost:8080/",
          "height": 54
        },
        "id": "-41LaJZ-e9eP",
        "outputId": "52bba40d-1e9d-442b-d996-c3526437e3dc"
      },
      "execution_count": null,
      "outputs": [
        {
          "output_type": "display_data",
          "data": {
            "text/plain": [
              "<Figure size 640x480 with 1 Axes>"
            ],
            "image/png": "[encoded data removed]"
          },
          "metadata": {}
        }
      ]
    },
    {
      "cell_type": "code",
      "source": [
        "# part e\n",
        "import statsmodels.api as sm\n",
        "\n",
        "X = sm.add_constant(x)\n",
        "model = sm.OLS(y, X).fit()\n",
        "\n",
        "beta_hat_0 = model.params[0]  # intercept\n",
        "beta_hat_1 = model.params[1]  # slope\n",
        "\n",
        "print(model.summary())"
      ],
      "metadata": {
        "colab": {
          "base_uri": "https://localhost:8080/"
        },
        "id": "9hJtAikbfgv8",
        "outputId": "8f0bba39-3ee3-4b24-a1d4-77f9d035c73a"
      },
      "execution_count": null,
      "outputs": [
        {
          "output_type": "stream",
          "name": "stdout",
          "text": [
            "                            OLS Regression Results                            \n",
            "==============================================================================\n",
            "Dep. Variable:                      y   R-squared:                       0.143\n",
            "Model:                            OLS   Adj. R-squared:                  0.135\n",
            "Method:                 Least Squares   F-statistic:                     16.39\n",
            "Date:                Mon, 02 Oct 2023   Prob (F-statistic):           0.000103\n",
            "Time:                        00:29:29   Log-Likelihood:                -65.057\n",
            "No. Observations:                 100   AIC:                             134.1\n",
            "Df Residuals:                      98   BIC:                             139.3\n",
            "Df Model:                           1                                         \n",
            "Covariance Type:            nonrobust                                         \n",
            "==============================================================================\n",
            "                 coef    std err          t      P>|t|      [0.025      0.975]\n",
            "------------------------------------------------------------------------------\n",
            "const         -0.9983      0.090    -11.094      0.000      -1.177      -0.820\n",
            "x1             0.6579      0.162      4.049      0.000       0.335       0.980\n",
            "==============================================================================\n",
            "Omnibus:                        0.849   Durbin-Watson:                   2.109\n",
            "Prob(Omnibus):                  0.654   Jarque-Bera (JB):                0.545\n",
            "Skew:                          -0.174   Prob(JB):                        0.762\n",
            "Kurtosis:                       3.101   Cond. No.                         4.30\n",
            "==============================================================================\n",
            "\n",
            "Notes:\n",
            "[1] Standard Errors assume that the covariance matrix of the errors is correctly specified.\n"
          ]
        }
      ]
    },
    {
      "cell_type": "markdown",
      "source": [
        "β0_hat is not so close to β0. For my model β0_hat is -0.9265 but β0 = 1.\n",
        "\n",
        "β1_hat is a little off from β1. For my model β1_hat is 0.5477 but β1 is 0.5"
      ],
      "metadata": {
        "id": "QcVva-bsf4Ky"
      }
    },
    {
      "cell_type": "code",
      "source": [
        "plt.scatter(x, y, label='Data Points')\n",
        "plt.xlabel(\"X\")\n",
        "plt.ylabel(\"Y\")\n",
        "\n",
        "# fitted line\n",
        "y_hat = beta_hat_0 + beta_hat_1 * x\n",
        "plt.plot(x, y_hat, color='red', label='Least Squares Line')\n",
        "\n",
        "# Population Regression Line\n",
        "y_pop = -1 + 0.5 * x\n",
        "plt.plot(x, y_pop, color='green', label='Population Regression Line')\n",
        "\n",
        "\n",
        "plt.legend()\n",
        "plt.show()"
      ],
      "metadata": {
        "colab": {
          "base_uri": "https://localhost:8080/",
          "height": 54
        },
        "id": "7pbZQsZwf01U",
        "outputId": "57805a33-84cc-47a1-e1f3-4d6dd66060e9"
      },
      "execution_count": null,
      "outputs": [
        {
          "output_type": "display_data",
          "data": {
            "text/plain": [
              "<Figure size 640x480 with 1 Axes>"
            ],
            "image/png": "[encoded data removed]"
          },
          "metadata": {}
        }
      ]
    },
    {
      "cell_type": "markdown",
      "source": [
        "# **ISL pg. 120 #14**"
      ],
      "metadata": {
        "id": "JpVtLc4dg3AM"
      }
    },
    {
      "cell_type": "code",
      "source": [
        "np.random.seed(1)\n",
        "\n",
        "x1 = np.random.rand(100)\n",
        "x2 = 0.5 * x1 + np.random.normal(size=100) / 10\n",
        "y = 2 + 2 * x1 + 0.3 * x2 + np.random.normal(size=100)\n",
        "\n",
        "# fitting linear model\n",
        "X = sm.add_constant(np.column_stack((x1, x2)))\n",
        "model = sm.OLS(y, X).fit()\n",
        "print(model.summary())"
      ],
      "metadata": {
        "colab": {
          "base_uri": "https://localhost:8080/"
        },
        "id": "ZjYcaV5Ngs1Z",
        "outputId": "34bde64f-f60d-4aa0-a2ce-16c3226c6f38"
      },
      "execution_count": null,
      "outputs": [
        {
          "output_type": "stream",
          "name": "stdout",
          "text": [
            "                            OLS Regression Results                            \n",
            "==============================================================================\n",
            "Dep. Variable:                      y   R-squared:                       0.261\n",
            "Model:                            OLS   Adj. R-squared:                  0.245\n",
            "Method:                 Least Squares   F-statistic:                     17.09\n",
            "Date:                Mon, 02 Oct 2023   Prob (F-statistic):           4.40e-07\n",
            "Time:                        00:29:29   Log-Likelihood:                -142.34\n",
            "No. Observations:                 100   AIC:                             290.7\n",
            "Df Residuals:                      97   BIC:                             298.5\n",
            "Df Model:                           2                                         \n",
            "Covariance Type:            nonrobust                                         \n",
            "==============================================================================\n",
            "                 coef    std err          t      P>|t|      [0.025      0.975]\n",
            "------------------------------------------------------------------------------\n",
            "const          2.1893      0.199     11.021      0.000       1.795       2.584\n",
            "x1             0.7046      0.637      1.107      0.271      -0.559       1.968\n",
            "x2             2.5024      1.140      2.194      0.031       0.239       4.766\n",
            "==============================================================================\n",
            "Omnibus:                        0.607   Durbin-Watson:                   2.111\n",
            "Prob(Omnibus):                  0.738   Jarque-Bera (JB):                0.577\n",
            "Skew:                          -0.179   Prob(JB):                        0.749\n",
            "Kurtosis:                       2.900   Cond. No.                         14.3\n",
            "==============================================================================\n",
            "\n",
            "Notes:\n",
            "[1] Standard Errors assume that the covariance matrix of the errors is correctly specified.\n"
          ]
        }
      ]
    },
    {
      "cell_type": "markdown",
      "source": [
        "### Part A:\n",
        "\n",
        "The form of the linear model is: $$y = \\beta_0 + \\beta_1x_1 + \\beta_2x_2 + \\epsilon $$\n",
        "\n",
        "β0​,β1​,β2​ are the regression coefficients"
      ],
      "metadata": {
        "id": "ZbcwTbzQhY-O"
      }
    },
    {
      "cell_type": "code",
      "source": [
        "# part b\n",
        "from scipy.stats import pearsonr\n",
        "\n",
        "# find r\n",
        "r, _ = pearsonr(x1, x2)\n",
        "print(f\"The correlation between x1 and x2 is: {r:.4f}\")\n",
        "\n",
        "# plot the scatterplot\n",
        "plt.figure(figsize=(8, 6))\n",
        "plt.scatter(x1, x2, alpha=0.5)\n",
        "plt.title(\"Scatterplot of x1 and x2\")\n",
        "plt.xlabel(\"x1\")\n",
        "plt.ylabel(\"x2\")\n",
        "plt.show()"
      ],
      "metadata": {
        "colab": {
          "base_uri": "https://localhost:8080/",
          "height": 582
        },
        "id": "ut2sNJHUhT8H",
        "outputId": "4dc5ab3b-4808-4b38-e813-4b5ffac81212"
      },
      "execution_count": null,
      "outputs": [
        {
          "output_type": "stream",
          "name": "stdout",
          "text": [
            "The correlation between x1 and x2 is: 0.8391\n"
          ]
        },
        {
          "output_type": "display_data",
          "data": {
            "text/plain": [
              "<Figure size 800x600 with 1 Axes>"
            ],
            "image/png": "[encoded data removed]"
          },
          "metadata": {}
        }
      ]
    },
    {
      "cell_type": "markdown",
      "source": [
        "### Part C:\n",
        "\n",
        "I'm confused on Part C, since there is no new data to fit the model on (if I continue to use the same seed).\n",
        "\n",
        "β0​,β1​,β2​ would be exactly the same as in Part A.\n",
        "\n",
        "The p-value for β2 is  0.031, so we can reject the null hypothesis. However, the p-value for β1 is 0.271 so we fail to reject that null hypothesis."
      ],
      "metadata": {
        "id": "NJ_3bh68kU0k"
      }
    },
    {
      "cell_type": "markdown",
      "source": [
        "### Part D:\n",
        "\n",
        "When using only x1, the p-value of β1 is 0.000 which is statistically significant so we can reject the null hypothesis in this case."
      ],
      "metadata": {
        "id": "vmLriUSylwPx"
      }
    },
    {
      "cell_type": "code",
      "source": [
        "# linear model with only x1\n",
        "X = sm.add_constant(x1)\n",
        "model = sm.OLS(y, X).fit()\n",
        "print(model.summary())"
      ],
      "metadata": {
        "colab": {
          "base_uri": "https://localhost:8080/"
        },
        "id": "O3mfY7c-iVAt",
        "outputId": "e331722f-f043-4cbd-85c2-e8bb72ade571"
      },
      "execution_count": null,
      "outputs": [
        {
          "output_type": "stream",
          "name": "stdout",
          "text": [
            "                            OLS Regression Results                            \n",
            "==============================================================================\n",
            "Dep. Variable:                      y   R-squared:                       0.224\n",
            "Model:                            OLS   Adj. R-squared:                  0.216\n",
            "Method:                 Least Squares   F-statistic:                     28.26\n",
            "Date:                Mon, 02 Oct 2023   Prob (F-statistic):           6.68e-07\n",
            "Time:                        00:29:30   Log-Likelihood:                -144.76\n",
            "No. Observations:                 100   AIC:                             293.5\n",
            "Df Residuals:                      98   BIC:                             298.7\n",
            "Df Model:                           1                                         \n",
            "Covariance Type:            nonrobust                                         \n",
            "==============================================================================\n",
            "                 coef    std err          t      P>|t|      [0.025      0.975]\n",
            "------------------------------------------------------------------------------\n",
            "const          2.2486      0.201     11.209      0.000       1.850       2.647\n",
            "x1             1.8770      0.353      5.316      0.000       1.176       2.578\n",
            "==============================================================================\n",
            "Omnibus:                        0.292   Durbin-Watson:                   2.123\n",
            "Prob(Omnibus):                  0.864   Jarque-Bera (JB):                0.468\n",
            "Skew:                          -0.003   Prob(JB):                        0.791\n",
            "Kurtosis:                       2.665   Cond. No.                         4.26\n",
            "==============================================================================\n",
            "\n",
            "Notes:\n",
            "[1] Standard Errors assume that the covariance matrix of the errors is correctly specified.\n"
          ]
        }
      ]
    },
    {
      "cell_type": "markdown",
      "source": [
        "### Part E:\n",
        "\n",
        "When using only x2, the p-value for β2 is 0.000 which is statistically significant so we can reject the null hypothesis in this case.\n",
        "\n",
        "But this is suspect to me."
      ],
      "metadata": {
        "id": "RyfQyp5imXyy"
      }
    },
    {
      "cell_type": "code",
      "source": [
        "# linear model with only x2\n",
        "X = sm.add_constant(x2)\n",
        "model = sm.OLS(y, X).fit()\n",
        "print(model.summary())"
      ],
      "metadata": {
        "colab": {
          "base_uri": "https://localhost:8080/"
        },
        "id": "U3Ct6n2ajHCT",
        "outputId": "310f290f-fe74-4a02-9f94-e8f209b43375"
      },
      "execution_count": null,
      "outputs": [
        {
          "output_type": "stream",
          "name": "stdout",
          "text": [
            "                            OLS Regression Results                            \n",
            "==============================================================================\n",
            "Dep. Variable:                      y   R-squared:                       0.251\n",
            "Model:                            OLS   Adj. R-squared:                  0.244\n",
            "Method:                 Least Squares   F-statistic:                     32.87\n",
            "Date:                Mon, 02 Oct 2023   Prob (F-statistic):           1.09e-07\n",
            "Time:                        00:29:30   Log-Likelihood:                -142.97\n",
            "No. Observations:                 100   AIC:                             289.9\n",
            "Df Residuals:                      98   BIC:                             295.1\n",
            "Df Model:                           1                                         \n",
            "Covariance Type:            nonrobust                                         \n",
            "==============================================================================\n",
            "                 coef    std err          t      P>|t|      [0.025      0.975]\n",
            "------------------------------------------------------------------------------\n",
            "const          2.2655      0.187     12.145      0.000       1.895       2.636\n",
            "x1             3.5613      0.621      5.733      0.000       2.329       4.794\n",
            "==============================================================================\n",
            "Omnibus:                        0.857   Durbin-Watson:                   2.117\n",
            "Prob(Omnibus):                  0.651   Jarque-Bera (JB):                0.746\n",
            "Skew:                          -0.210   Prob(JB):                        0.689\n",
            "Kurtosis:                       2.946   Cond. No.                         6.48\n",
            "==============================================================================\n",
            "\n",
            "Notes:\n",
            "[1] Standard Errors assume that the covariance matrix of the errors is correctly specified.\n"
          ]
        }
      ]
    },
    {
      "cell_type": "markdown",
      "source": [
        "### Part F:\n",
        "1. Model with only x1 as a predictor:\n",
        "\n",
        "    β1^​ for x1 = 1.8770\n",
        "    P-value for x1 = very close to 0 (<0.05), which means x1 is a significant predictor for y when alone.\n",
        "    R-squared = 0.224\n",
        "\n",
        "2. Model with only x2 as a predictor:\n",
        "\n",
        "    β1^​ for x2 = 3.5613\n",
        "    P-value for x2 = very close to 0 (<0.05), which means x2 is also a significant predictor for y when alone.\n",
        "    R-squared = 0.251\n",
        "\n",
        "3. Model with both x1 and x2 as predictors:\n",
        "\n",
        "    β1^​ for x1 = 0.7046 and P-value = 0.271 (>0.05)\n",
        "    β2^​ for x2 = 2.5024 and P-value = 0.031 (<0.05)\n",
        "    R-squared = 0.261\n",
        "\n",
        "The coefficient of x1 is not statistically significant when both predictors are included, but it is significant when x1 is alone. This indicates multicollinearity.\n",
        "\n",
        "The R^2 value only slightly increases when both x1 and x2 are in the model compared to the models with the single predictors. This slight increase means that adding both predictors together doesn't add a lot of new insight."
      ],
      "metadata": {
        "id": "ZN9jyBUXn7Xx"
      }
    },
    {
      "cell_type": "markdown",
      "source": [
        "### Part G:\n",
        "\n",
        "The residual for the model using x1 as the predictor is large when looking at the new observation. The new observation is an outlier. For the model using only x2 and the model using both x1 and x2, the new observation is not an outlier."
      ],
      "metadata": {
        "id": "3rzN3O07sW06"
      }
    },
    {
      "cell_type": "code",
      "source": [
        "# part g\n",
        "x1 = np.append(x1, 0.1)\n",
        "x2 = np.append(x2, 0.8)\n",
        "y = np.append(y, 6)\n",
        "\n",
        "# refit the models -- using only x1\n",
        "print(\"Using only x1\")\n",
        "X = sm.add_constant(x1)\n",
        "model_x1 = sm.OLS(y, X).fit()\n",
        "print(model_x1.summary())\n",
        "\n",
        "# refit the model -- using only x2\n",
        "print(\"\\nUsing only x2\")\n",
        "X = sm.add_constant(x2)\n",
        "model_x2 = sm.OLS(y, X).fit()\n",
        "print(model_x2.summary())\n",
        "\n",
        "# refit the model-- uisng x1 and x2\n",
        "print(\"\\nUsing x1 and x2\")\n",
        "X = np.column_stack((x1, x2))\n",
        "X = sm.add_constant(X)\n",
        "model_x1_x2 = sm.OLS(y, X).fit()\n",
        "print(model_x1_x2.summary())"
      ],
      "metadata": {
        "colab": {
          "base_uri": "https://localhost:8080/"
        },
        "id": "xOb4_yfHmWno",
        "outputId": "cd0caff3-6fef-48b6-cbb8-238dfe3006bf"
      },
      "execution_count": null,
      "outputs": [
        {
          "output_type": "stream",
          "name": "stdout",
          "text": [
            "Using only x1\n",
            "                            OLS Regression Results                            \n",
            "==============================================================================\n",
            "Dep. Variable:                      y   R-squared:                       0.181\n",
            "Model:                            OLS   Adj. R-squared:                  0.173\n",
            "Method:                 Least Squares   F-statistic:                     21.89\n",
            "Date:                Mon, 02 Oct 2023   Prob (F-statistic):           9.15e-06\n",
            "Time:                        00:29:30   Log-Likelihood:                -151.28\n",
            "No. Observations:                 101   AIC:                             306.6\n",
            "Df Residuals:                      99   BIC:                             311.8\n",
            "Df Model:                           1                                         \n",
            "Covariance Type:            nonrobust                                         \n",
            "==============================================================================\n",
            "                 coef    std err          t      P>|t|      [0.025      0.975]\n",
            "------------------------------------------------------------------------------\n",
            "const          2.3583      0.208     11.331      0.000       1.945       2.771\n",
            "x1             1.7225      0.368      4.679      0.000       0.992       2.453\n",
            "==============================================================================\n",
            "Omnibus:                        1.904   Durbin-Watson:                   1.975\n",
            "Prob(Omnibus):                  0.386   Jarque-Bera (JB):                1.388\n",
            "Skew:                           0.263   Prob(JB):                        0.500\n",
            "Kurtosis:                       3.232   Cond. No.                         4.23\n",
            "==============================================================================\n",
            "\n",
            "Notes:\n",
            "[1] Standard Errors assume that the covariance matrix of the errors is correctly specified.\n",
            "\n",
            "Using only x2\n",
            "                            OLS Regression Results                            \n",
            "==============================================================================\n",
            "Dep. Variable:                      y   R-squared:                       0.288\n",
            "Model:                            OLS   Adj. R-squared:                  0.281\n",
            "Method:                 Least Squares   F-statistic:                     39.99\n",
            "Date:                Mon, 02 Oct 2023   Prob (F-statistic):           7.41e-09\n",
            "Time:                        00:29:30   Log-Likelihood:                -144.24\n",
            "No. Observations:                 101   AIC:                             292.5\n",
            "Df Residuals:                      99   BIC:                             297.7\n",
            "Df Model:                           1                                         \n",
            "Covariance Type:            nonrobust                                         \n",
            "==============================================================================\n",
            "                 coef    std err          t      P>|t|      [0.025      0.975]\n",
            "------------------------------------------------------------------------------\n",
            "const          2.2331      0.182     12.271      0.000       1.872       2.594\n",
            "x1             3.7216      0.589      6.324      0.000       2.554       4.889\n",
            "==============================================================================\n",
            "Omnibus:                        1.271   Durbin-Watson:                   2.101\n",
            "Prob(Omnibus):                  0.530   Jarque-Bera (JB):                1.094\n",
            "Skew:                          -0.255   Prob(JB):                        0.579\n",
            "Kurtosis:                       2.973   Cond. No.                         6.20\n",
            "==============================================================================\n",
            "\n",
            "Notes:\n",
            "[1] Standard Errors assume that the covariance matrix of the errors is correctly specified.\n",
            "\n",
            "Using x1 and x2\n",
            "                            OLS Regression Results                            \n",
            "==============================================================================\n",
            "Dep. Variable:                      y   R-squared:                       0.289\n",
            "Model:                            OLS   Adj. R-squared:                  0.275\n",
            "Method:                 Least Squares   F-statistic:                     19.92\n",
            "Date:                Mon, 02 Oct 2023   Prob (F-statistic):           5.51e-08\n",
            "Time:                        00:29:30   Log-Likelihood:                -144.15\n",
            "No. Observations:                 101   AIC:                             294.3\n",
            "Df Residuals:                      98   BIC:                             302.1\n",
            "Df Model:                           2                                         \n",
            "Covariance Type:            nonrobust                                         \n",
            "==============================================================================\n",
            "                 coef    std err          t      P>|t|      [0.025      0.975]\n",
            "------------------------------------------------------------------------------\n",
            "const          2.1996      0.199     11.041      0.000       1.804       2.595\n",
            "x1             0.2200      0.520      0.423      0.673      -0.812       1.252\n",
            "x2             3.4392      0.892      3.857      0.000       1.670       5.209\n",
            "==============================================================================\n",
            "Omnibus:                        1.246   Durbin-Watson:                   2.089\n",
            "Prob(Omnibus):                  0.536   Jarque-Bera (JB):                1.094\n",
            "Skew:                          -0.254   Prob(JB):                        0.579\n",
            "Kurtosis:                       2.956   Cond. No.                         11.1\n",
            "==============================================================================\n",
            "\n",
            "Notes:\n",
            "[1] Standard Errors assume that the covariance matrix of the errors is correctly specified.\n"
          ]
        }
      ]
    },
    {
      "cell_type": "code",
      "source": [
        "# x1 model\n",
        "X1 = sm.add_constant(x1)\n",
        "model_x1 = sm.OLS(y, X1).fit()\n",
        "residuals_x1 = model_x1.resid\n",
        "residual_new_obs_x1 = residuals_x1[-1] # since new observation is added at the end\n",
        "print(f\"The residual for the new observation in the model with x1 as predictor is: {residual_new_obs_x1:.2f}\")\n",
        "\n",
        "# x2 model\n",
        "X2 = sm.add_constant(x2)\n",
        "model_x2 = sm.OLS(y, X2).fit()\n",
        "residuals_x2 = model_x2.resid\n",
        "residual_new_obs_x2 = residuals_x2[-1]\n",
        "print(f\"The residual for the new observation in the model with x2 as predictor is: {residual_new_obs_x2:.2f}\")\n",
        "\n",
        "# x1 and x2 model\n",
        "X1_X2 = sm.add_constant(list(zip(x1, x2)))\n",
        "model_x1_x2 = sm.OLS(y, X1_X2).fit()\n",
        "residuals_x1_x2 = model_x1_x2.resid\n",
        "residual_new_obs_x1_x2 = residuals_x1_x2[-1]\n",
        "print(f\"The residual for the new observation in the model with x1 and x2 as predictors is: {residual_new_obs_x1_x2:.2f}\")"
      ],
      "metadata": {
        "colab": {
          "base_uri": "https://localhost:8080/"
        },
        "id": "5Nqvo7jupwew",
        "outputId": "d1b39095-b72a-4478-c4a5-f89c5f1468d6"
      },
      "execution_count": null,
      "outputs": [
        {
          "output_type": "stream",
          "name": "stdout",
          "text": [
            "The residual for the new observation in the model with x1 as predictor is: 3.47\n",
            "The residual for the new observation in the model with x2 as predictor is: 0.79\n",
            "The residual for the new observation in the model with x1 and x2 as predictors is: 1.03\n"
          ]
        }
      ]
    },
    {
      "cell_type": "code",
      "source": [
        "# calculate the RSE for each model\n",
        "rse_x1 = np.sqrt(np.sum(residuals_x1 ** 2) / (len(residuals_x1) - 2))\n",
        "rse_x2 = np.sqrt(np.sum(residuals_x2 ** 2) / (len(residuals_x2) - 2))\n",
        "rse_x1_x2 = np.sqrt(np.sum(residuals_x1_x2 ** 2) / (len(residuals_x1_x2) - 3))\n",
        "\n",
        "print(f\"The RSE for the model with x1 as predictor is: {rse_x1:.2f}\")\n",
        "print(f\"The RSE for the model with x2 as predictor is: {rse_x2:.2f}\")\n",
        "print(f\"The RSE for the model with x1 and x2 as predictors is: {rse_x1_x2:.2f}\")\n",
        "\n",
        "# compare residuals of the new observation with the RSE\n",
        "threshold = 2 # a residual is large if it's twice the RSE\n",
        "print(f\"Is the residual for the new observation in the x1 model large? {'Yes' if abs(residual_new_obs_x1) > threshold * rse_x1 else 'No'}\")\n",
        "print(f\"Is the residual for the new observation in the x2 model large? {'Yes' if abs(residual_new_obs_x2) > threshold * rse_x2 else 'No'}\")\n",
        "print(f\"Is the residual for the new observation in the x1 and x2 model large? {'Yes' if abs(residual_new_obs_x1_x2) > threshold * rse_x1_x2 else 'No'}\")"
      ],
      "metadata": {
        "colab": {
          "base_uri": "https://localhost:8080/"
        },
        "id": "lrF5UzzNrdMA",
        "outputId": "c372641c-ee5a-42b9-c0f2-98905d27d395"
      },
      "execution_count": null,
      "outputs": [
        {
          "output_type": "stream",
          "name": "stdout",
          "text": [
            "The RSE for the model with x1 as predictor is: 1.09\n",
            "The RSE for the model with x2 as predictor is: 1.02\n",
            "The RSE for the model with x1 and x2 as predictors is: 1.02\n",
            "Is the residual for the new observation in the x1 model large? Yes\n",
            "Is the residual for the new observation in the x2 model large? No\n",
            "Is the residual for the new observation in the x1 and x2 model large? No\n"
          ]
        }
      ]
    },
    {
      "cell_type": "markdown",
      "source": [
        "#### Looking at leverage-points in x1"
      ],
      "metadata": {
        "id": "EpPKu7sIua_0"
      }
    },
    {
      "cell_type": "code",
      "source": [
        "# leverage statistics for x1 model\n",
        "influence_x1 = model_x1.get_influence()\n",
        "leverage_x1 = influence_x1.hat_matrix_diag\n",
        "threshold = 2 * (X1.shape[1]) / len(x1)\n",
        "high_leverage_points_x1 = np.where(leverage_x1 > threshold)\n",
        "\n",
        "print(high_leverage_points_x1)"
      ],
      "metadata": {
        "colab": {
          "base_uri": "https://localhost:8080/"
        },
        "id": "qBx8d5Z1tBX6",
        "outputId": "a2cb7d51-c4ec-4f10-d258-fbaffb683c87"
      },
      "execution_count": null,
      "outputs": [
        {
          "output_type": "stream",
          "name": "stdout",
          "text": [
            "(array([], dtype=int64),)\n"
          ]
        }
      ]
    },
    {
      "cell_type": "markdown",
      "source": [
        "#### Looking at leverage-points in x2\n",
        "\n",
        "There are 7 high-leverage points."
      ],
      "metadata": {
        "id": "A6_MhBzUuvV5"
      }
    },
    {
      "cell_type": "code",
      "source": [
        "# leverage statistics for x2 model\n",
        "influence_x2 = model_x2.get_influence()\n",
        "leverage_x2 = influence_x2.hat_matrix_diag\n",
        "threshold = 2 * (X2.shape[1]) / len(x2)\n",
        "high_leverage_points_x2 = np.where(leverage_x2 > threshold)\n",
        "\n",
        "print(high_leverage_points_x2)"
      ],
      "metadata": {
        "colab": {
          "base_uri": "https://localhost:8080/"
        },
        "id": "HV37Q-PYujqd",
        "outputId": "d0fe716e-a565-4337-910d-eb1b2816662f"
      },
      "execution_count": null,
      "outputs": [
        {
          "output_type": "stream",
          "name": "stdout",
          "text": [
            "(array([ 30,  50,  68,  77,  79,  95, 100]),)\n"
          ]
        }
      ]
    },
    {
      "cell_type": "markdown",
      "source": [
        "#### Looking at leverage-points in x1_x2 model\n",
        "There are 4 high-leverage points."
      ],
      "metadata": {
        "id": "X1ZohuGCvaKl"
      }
    },
    {
      "cell_type": "code",
      "source": [
        "# leverage statistics for x1_x2 model\n",
        "influence_x1_x2 = model_x1_x2.get_influence()\n",
        "leverage_x1_x2 = influence_x1_x2.hat_matrix_diag\n",
        "threshold = 2 * (X1_X2.shape[1]) / len(x2)\n",
        "high_leverage_points_x1_x2 = np.where(leverage_x1_x2 > threshold)\n",
        "\n",
        "print(high_leverage_points_x1_x2)"
      ],
      "metadata": {
        "colab": {
          "base_uri": "https://localhost:8080/"
        },
        "id": "XP7KBZkZutoe",
        "outputId": "75ded766-374f-49b0-fbb4-f549cfbbdefe"
      },
      "execution_count": null,
      "outputs": [
        {
          "output_type": "stream",
          "name": "stdout",
          "text": [
            "(array([ 50,  77,  98, 100]),)\n"
          ]
        }
      ]
    },
    {
      "cell_type": "code",
      "source": [
        "# # removing the high-leverage points\n",
        "# X1_new = np.delete(X1, high_leverage_points_x1, axis=0)\n",
        "# # X2_new = np.delete(X2, high_leverage_points_x2, axis=0)\n",
        "# # X1_X2_new = np.delete(X1_X2, high_leverage_points_x1_x2, axis=0)\n",
        "\n",
        "# print(\"X1_new\")\n",
        "# model_x1_new = sm.OLS(y, X1_new).fit()\n",
        "# print(model_x1_new.summary())"
      ],
      "metadata": {
        "id": "WrUs5auBxqO_"
      },
      "execution_count": null,
      "outputs": []
    },
    {
      "cell_type": "markdown",
      "source": [
        "Things to note:\n",
        "\n",
        "* A point with a large residual is an outlier in the response, Y.\n",
        "  * doesn't affect the regression line\n",
        "  * is a result from poor model predictions\n",
        "* A point with high leverage is an outlier in the predictor, X.\n",
        "  * can affect the regression line by negatively impacting the regression coefficients"
      ],
      "metadata": {
        "id": "_f8OV2T3whPi"
      }
    }
  ]
}